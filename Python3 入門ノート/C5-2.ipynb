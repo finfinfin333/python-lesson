{
 "cells": [
  {
   "cell_type": "code",
   "execution_count": 1,
   "metadata": {},
   "outputs": [
    {
     "name": "stdout",
     "output_type": "stream",
     "text": [
      "何人ですか？（qで終了）3\n",
      "1人あたりの金額 2533\n",
      "何人ですか？（qで終了）\n",
      "エラーになりました。\n",
      "invalid literal for int() with base 10: ''\n",
      "何人ですか？（qで終了）0\n",
      "エラーになりました。\n",
      "division by zero\n",
      "何人ですか？（qで終了）w\n",
      "エラーになりました。\n",
      "invalid literal for int() with base 10: 'w'\n",
      "何人ですか？（qで終了）q\n",
      "終了しました。\n"
     ]
    }
   ],
   "source": [
    "sum = 7600\n",
    "while True:\n",
    "    num = input(\"何人ですか？（qで終了）\")\n",
    "    if num == \"q\":\n",
    "        print(\"終了しました。\")\n",
    "        break\n",
    "    try:\n",
    "        price = round(sum / int(num))\n",
    "    except Exception as error:\n",
    "        print(\"エラーになりました。\")\n",
    "        print(error)\n",
    "    else:\n",
    "        if price < 0:\n",
    "            continue\n",
    "        print(\"1人あたりの金額\", price)"
   ]
  }
 ],
 "metadata": {
  "kernelspec": {
   "display_name": "Python 3",
   "language": "python",
   "name": "python3"
  },
  "language_info": {
   "codemirror_mode": {
    "name": "ipython",
    "version": 3
   },
   "file_extension": ".py",
   "mimetype": "text/x-python",
   "name": "python",
   "nbconvert_exporter": "python",
   "pygments_lexer": "ipython3",
   "version": "3.7.5"
  }
 },
 "nbformat": 4,
 "nbformat_minor": 2
}
