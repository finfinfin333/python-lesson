{
 "cells": [
  {
   "cell_type": "code",
   "execution_count": 26,
   "metadata": {},
   "outputs": [
    {
     "name": "stdout",
     "output_type": "stream",
     "text": [
      "0\n"
     ]
    }
   ],
   "source": [
    "v = -1\n",
    "if v<0 :\n",
    "    v = 0\n",
    "    \n",
    "v = v*2\n",
    "print(v)"
   ]
  },
  {
   "cell_type": "code",
   "execution_count": 27,
   "metadata": {},
   "outputs": [
    {
     "name": "stdout",
     "output_type": "stream",
     "text": [
      "6\n"
     ]
    }
   ],
   "source": [
    "v = 3\n",
    "if v<0 :\n",
    "    v = 0\n",
    "    \n",
    "v = v*2\n",
    "print(v)"
   ]
  },
  {
   "cell_type": "code",
   "execution_count": 28,
   "metadata": {},
   "outputs": [
    {
     "name": "stdout",
     "output_type": "stream",
     "text": [
      "97\n",
      "--------------------\n",
      "不合格/-3\n"
     ]
    }
   ],
   "source": [
    "sum = 50 + 37 + 10\n",
    "limit = 100\n",
    "if sum >= limit:\n",
    "    result = \"合格\"\n",
    "else:\n",
    "    result = \"不合格\"\n",
    "    result += \"/\" + str(sum - limit)\n",
    "    \n",
    "print(sum)\n",
    "print(\"-\" * 20)\n",
    "print(result)"
   ]
  },
  {
   "cell_type": "code",
   "execution_count": 29,
   "metadata": {},
   "outputs": [
    {
     "name": "stdout",
     "output_type": "stream",
     "text": [
      "24点:不適合\n"
     ]
    }
   ],
   "source": [
    "#randomモジュールのrandint関数を読み込む\n",
    "from random import randint\n",
    "point = randint(0, 100)\n",
    "#判定\n",
    "if point >= 80:\n",
    "    result = \"Aクラス\"\n",
    "elif point >= 60:\n",
    "    result = \"Bクラス\"\n",
    "elif point >= 30:\n",
    "    result = \"Cクラス\"\n",
    "else:\n",
    "    result = \"不適合\"\n",
    "#結果の出力\n",
    "print(f\"{point}点:{result}\")"
   ]
  },
  {
   "cell_type": "code",
   "execution_count": 30,
   "metadata": {},
   "outputs": [
    {
     "name": "stdout",
     "output_type": "stream",
     "text": [
      "サイズ15、重力30:合格\n"
     ]
    }
   ],
   "source": [
    "from random import randint\n",
    "size = randint(5, 20)\n",
    "weight = randint(20, 40)\n",
    "#判定\n",
    "if size >= 10:\n",
    "    if weight >= 25:\n",
    "        result = \"合格\"\n",
    "    else:\n",
    "        result = \"不合格\"\n",
    "else:\n",
    "    redult = \"不合格\"\n",
    "    \n",
    "#出力\n",
    "text = f\"サイズ{size}、重力{weight}:{result}\"\n",
    "#fをつけた文字列には変数を埋め込むことができる\n",
    "print(text)"
   ]
  },
  {
   "cell_type": "code",
   "execution_count": 31,
   "metadata": {},
   "outputs": [
    {
     "name": "stdout",
     "output_type": "stream",
     "text": [
      "サイズ19、重力25:合格\n"
     ]
    }
   ],
   "source": [
    "from random import randint\n",
    "size = randint(5, 20)\n",
    "weight = randint(20, 40)\n",
    "if (size >= 10) and (weight >= 25):\n",
    "    result = \"合格\"    \n",
    "else:\n",
    "    result = \"不合格\"\n",
    "    \n",
    "#結果の出力\n",
    "text = f\"サイズ{size}、重力{weight}:{result}\"\n",
    "print(text)"
   ]
  },
  {
   "cell_type": "code",
   "execution_count": 2,
   "metadata": {},
   "outputs": [
    {
     "name": "stdout",
     "output_type": "stream",
     "text": [
      "a 69、b 84、合計153:合格\n"
     ]
    }
   ],
   "source": [
    "from random import randint\n",
    "a = randint(0, 100)\n",
    "b = randint(0, 100)\n",
    "\n",
    "if a >= 40 and b >= 40 and (a + b) >= 120:\n",
    "    result = \"合格\"\n",
    "else:\n",
    "    result = \"不合格\"\n",
    "    \n",
    "text = f\"a {a}、b {b}、合計{a + b}:{result}\"\n",
    "print(text)"
   ]
  },
  {
   "cell_type": "code",
   "execution_count": 14,
   "metadata": {},
   "outputs": [
    {
     "name": "stdout",
     "output_type": "stream",
     "text": [
      "a 35、b 59:不合格\n"
     ]
    }
   ],
   "source": [
    "from random import randint\n",
    "a = randint(0, 100)\n",
    "b = randint(0, 100)\n",
    "\n",
    "if a >= 80 or b >= 80 :\n",
    "    result = \"合格\"\n",
    "else:\n",
    "    result = \"不合格\"\n",
    "    \n",
    "text = f\"a {a}、b {b}:{result}\"\n",
    "print(text)"
   ]
  },
  {
   "cell_type": "code",
   "execution_count": 15,
   "metadata": {},
   "outputs": [
    {
     "name": "stdout",
     "output_type": "stream",
     "text": [
      "匿名\n"
     ]
    }
   ],
   "source": [
    "name = \"\"\n",
    "if not name:\n",
    "    name = \"匿名\"\n",
    "print(name)"
   ]
  },
  {
   "cell_type": "code",
   "execution_count": 18,
   "metadata": {},
   "outputs": [
    {
     "name": "stdout",
     "output_type": "stream",
     "text": [
      "49 奇数\n"
     ]
    }
   ],
   "source": [
    "from random import randint\n",
    "num = randint(0, 100)\n",
    "\n",
    "if num%2:\n",
    "    result = \"奇数\"\n",
    "else:\n",
    "    result = \"偶数\"\n",
    "print(num, result)"
   ]
  },
  {
   "cell_type": "code",
   "execution_count": 20,
   "metadata": {},
   "outputs": [
    {
     "name": "stdout",
     "output_type": "stream",
     "text": [
      "3 不合格\n"
     ]
    }
   ],
   "source": [
    "from random import randint\n",
    "a = randint(0, 10)\n",
    "if 5 <= a <= 8:\n",
    "    print(a, \"合格\")\n",
    "else:\n",
    "    print(a, \"不合格\")"
   ]
  },
  {
   "cell_type": "code",
   "execution_count": 21,
   "metadata": {},
   "outputs": [
    {
     "name": "stdout",
     "output_type": "stream",
     "text": [
      "1\n",
      "2\n",
      "3\n",
      "4\n",
      "5\n"
     ]
    }
   ],
   "source": [
    "count = 1\n",
    "while count<=5:\n",
    "    print(count)\n",
    "    count += 1"
   ]
  },
  {
   "cell_type": "code",
   "execution_count": 23,
   "metadata": {},
   "outputs": [
    {
     "name": "stdout",
     "output_type": "stream",
     "text": [
      " 13\n",
      " 19\n",
      " 14\n",
      " 12\n",
      "  7\n",
      "---\n",
      " 65\n"
     ]
    }
   ],
   "source": [
    "from random import randint\n",
    "tickets = 5\n",
    "point = 0\n",
    "fmt = \"{:>3}\" #3行詰\n",
    "#ticketが正の間は繰り返す\n",
    "while tickets>0:\n",
    "    v = randint(1, 20)\n",
    "    print(fmt.format(v))\n",
    "    point += v\n",
    "    tickets -= 1 #チケット枚数を一枚減らす\n",
    "#出力\n",
    "print(\"-\" * 3)\n",
    "print(fmt.format(point))"
   ]
  },
  {
   "cell_type": "code",
   "execution_count": 25,
   "metadata": {},
   "outputs": [
    {
     "name": "stdout",
     "output_type": "stream",
     "text": [
      "3 5 13\n"
     ]
    }
   ],
   "source": [
    "from random import randint\n",
    "while True:\n",
    "    a = randint(1, 13)\n",
    "    b = randint(1, 13)\n",
    "    c = randint(1, 13)\n",
    "    #合計が21ならばブレイクする\n",
    "    if (a+b+c) == 21:\n",
    "        break\n",
    "        \n",
    "print(a, b, c)"
   ]
  },
  {
   "cell_type": "code",
   "execution_count": 28,
   "metadata": {
    "scrolled": true
   },
   "outputs": [
    {
     "name": "stdout",
     "output_type": "stream",
     "text": [
      "問題！3回間違えたら終了。qで止める\n",
      "96+57は？5\n",
      "間違い x\n",
      "85+29は？q\n",
      "--------------------\n",
      "正解: 0\n",
      "間違い: 1\n"
     ]
    }
   ],
   "source": [
    "from random import randint\n",
    "miss = 0 #間違えた数 \n",
    "correct = 0 #正解数\n",
    "print(\"問題！3回間違えたら終了。qで止める\")\n",
    "while miss<3:\n",
    "    a = randint(1,  100)\n",
    "    b = randint(1, 100)\n",
    "    ans = a + b\n",
    "    #問題を出題し、キーボードから入力まちにする\n",
    "    question = f\"{a}+{b}は？\"\n",
    "    value = input(question)\n",
    "    #qと入力されたら中断する\n",
    "    if value == \"q\":\n",
    "        break\n",
    "    #正解かどうか判断\n",
    "    if value == str(ans):\n",
    "        correct += 1\n",
    "        print(\"正解です\")\n",
    "    else:\n",
    "        miss += 1\n",
    "        print(\"間違い\", \"x\" * miss)#間違いだけxを表示する\n",
    "\n",
    "print(\"-\"*20)\n",
    "print(\"正解:\", correct)\n",
    "print(\"間違い:\", miss)"
   ]
  },
  {
   "cell_type": "code",
   "execution_count": 30,
   "metadata": {},
   "outputs": [
    {
     "name": "stdout",
     "output_type": "stream",
     "text": [
      "[7, 58, 23, 100, 64, 60, 16, 81, 2, 84]\n"
     ]
    }
   ],
   "source": [
    "from random import randint \n",
    "numbers = []\n",
    "#numbersの値が10個になるまで繰り返す\n",
    "while len(numbers) < 10:\n",
    "    n = randint(0, 100)\n",
    "    if n in numbers:\n",
    "        #nがnumbersに含まれていたらスキップする\n",
    "        continue\n",
    "    #numbersにnを追加する\n",
    "    numbers.append(n)\n",
    "    \n",
    "print(numbers)"
   ]
  },
  {
   "cell_type": "code",
   "execution_count": 4,
   "metadata": {},
   "outputs": [
    {
     "name": "stdout",
     "output_type": "stream",
     "text": [
      "[85, 77, 28, 69, 16, 11, 6, 71, 70, 47]\n"
     ]
    }
   ],
   "source": [
    "from random import randint\n",
    "\n",
    "numbers = [] \n",
    "\n",
    "#空のリスト\n",
    "\n",
    "#numbersの値が10個になるまで繰り返す\n",
    "\n",
    "while len(numbers) < 10:\n",
    "    n = randint(-10, 90)\n",
    "    if n < 0:\n",
    "        #nがマイナスならブレイクする\n",
    "        print(\"中断されました\")\n",
    "        break\n",
    "    if n in numbers:\n",
    "        #nがnumbersに含まれていたらスキップする\n",
    "        continue\n",
    "    #numbersにnを追加する\n",
    "    numbers.append(n)\n",
    "else:\n",
    "    print(numbers)"
   ]
  },
  {
   "cell_type": "code",
   "execution_count": 5,
   "metadata": {},
   "outputs": [
    {
     "name": "stdout",
     "output_type": "stream",
     "text": [
      "blue\n",
      "pink\n",
      "green\n",
      "red\n"
     ]
    }
   ],
   "source": [
    "#指定回数を繰り返す\n",
    "colors = [\"blue\", \"pink\", \"green\", \"red\"]\n",
    "for name in colors :\n",
    "    print(name)"
   ]
  },
  {
   "cell_type": "code",
   "execution_count": 6,
   "metadata": {},
   "outputs": [
    {
     "name": "stdout",
     "output_type": "stream",
     "text": [
      "5\n",
      "6\n",
      "7\n",
      "8\n",
      "9\n"
     ]
    }
   ],
   "source": [
    "for i in range (5, 10):\n",
    "    print(i)"
   ]
  },
  {
   "cell_type": "code",
   "execution_count": 7,
   "metadata": {},
   "outputs": [
    {
     "name": "stdout",
     "output_type": "stream",
     "text": [
      "i = 0\n",
      "  j = 0\n",
      "  j = 1\n",
      "i = 1\n",
      "  j = 0\n",
      "  j = 1\n",
      "i = 2\n",
      "  j = 0\n",
      "  j = 1\n"
     ]
    }
   ],
   "source": [
    "for i in range(3):\n",
    "    print(\"i =\", i)\n",
    "    for j in range(2):\n",
    "        print(\" \", \"j =\", j)"
   ]
  },
  {
   "cell_type": "code",
   "execution_count": 8,
   "metadata": {},
   "outputs": [
    {
     "name": "stdout",
     "output_type": "stream",
     "text": [
      "\n",
      "(0, 0)(2, 0)(4, 0)\n",
      "(0, 3)(2, 3)(4, 3)\n",
      "(0, 6)(2, 6)(4, 6)\n",
      "(0, 9)(2, 9)(4, 9)\n"
     ]
    }
   ],
   "source": [
    "for i in range(4):\n",
    "    print()\n",
    "    for j in range(3):\n",
    "        x = j*2\n",
    "        y = i*3\n",
    "        print(f\"({x}, {y})\", end=\"\")\n",
    "print()"
   ]
  },
  {
   "cell_type": "code",
   "execution_count": 9,
   "metadata": {},
   "outputs": [
    {
     "name": "stdout",
     "output_type": "stream",
     "text": [
      "3 / 3\n",
      "4.2 / 7.2\n",
      "10 / 17.2\n",
      "x 数値ではありません。\n"
     ]
    }
   ],
   "source": [
    "numlist = [3, 4.2, 10, \"x\", 1, 9]\n",
    "sum = 0\n",
    "for num in numlist:\n",
    "    #numが数値出ない時break\n",
    "    if not isinstance(num, (int, float)):\n",
    "        print(num, \"数値ではありません。\")\n",
    "        break\n",
    "    sum += num\n",
    "    print(num, \"/\", sum)"
   ]
  },
  {
   "cell_type": "code",
   "execution_count": 10,
   "metadata": {},
   "outputs": [
    {
     "name": "stdout",
     "output_type": "stream",
     "text": [
      "i = 0, j = 0\n",
      ".\n",
      "i = 1, j = 0\n",
      "i = 1, j = 1\n",
      "..\n",
      "i = 2, j = 0\n",
      "i = 2, j = 1\n",
      "i = 2, j = 2\n",
      "...\n",
      "i = 3, j = 0\n",
      "i = 3, j = 1\n",
      "i = 3, j = 2\n",
      "i = 3, j = 3\n"
     ]
    }
   ],
   "source": [
    "for i in range(4):\n",
    "    for j in range(4):\n",
    "        if i<j:\n",
    "            print(\".\" * j)\n",
    "            break\n",
    "        print(f\"i = {i}, j = {j}\")"
   ]
  },
  {
   "cell_type": "code",
   "execution_count": 12,
   "metadata": {},
   "outputs": [
    {
     "name": "stdout",
     "output_type": "stream",
     "text": [
      "3 / 3\n",
      "4.2 / 7.2\n",
      "10 / 17.2\n",
      "x 数値ではありません。\n",
      "1 / 18.2\n",
      "9 / 27.2\n"
     ]
    }
   ],
   "source": [
    "numlist = [3, 4.2, 10, \"x\", 1, 9]\n",
    "sum = 0\n",
    "for num in numlist:\n",
    "    if not isinstance(num, (int, float)):\n",
    "        print(num, \"数値ではありません。\")\n",
    "        continue\n",
    "    sum += num\n",
    "    print(num, \"/\", sum)"
   ]
  },
  {
   "cell_type": "code",
   "execution_count": 13,
   "metadata": {},
   "outputs": [
    {
     "name": "stdout",
     "output_type": "stream",
     "text": [
      "i = 0, j =0\n",
      ".\n",
      "..\n",
      "...\n",
      "i = 1, j =0\n",
      "i = 1, j =1\n",
      "..\n",
      "...\n",
      "i = 2, j =0\n",
      "i = 2, j =1\n",
      "i = 2, j =2\n",
      "...\n",
      "i = 3, j =0\n",
      "i = 3, j =1\n",
      "i = 3, j =2\n",
      "i = 3, j =3\n"
     ]
    }
   ],
   "source": [
    "for i in range(4):\n",
    "    for j in range(4):\n",
    "        if i<j:\n",
    "            print(\".\" * j)\n",
    "            continue\n",
    "        print(f\"i = {i}, j ={j}\")"
   ]
  },
  {
   "cell_type": "code",
   "execution_count": 18,
   "metadata": {},
   "outputs": [
    {
     "name": "stdout",
     "output_type": "stream",
     "text": [
      "x 数値ではない値が含まれていました。\n"
     ]
    }
   ],
   "source": [
    "numlist = [3, 4.2, 10, \"x\", 1, 9] #文字列が含まれている\n",
    "\n",
    "sum = 0\n",
    "for num in numlist:\n",
    "    #numが数値ではない時は処理をブレイクする\n",
    "    if not isinstance(num, (int, float)):\n",
    "        print(num, \"数値ではない値が含まれていました。\")\n",
    "        break\n",
    "    sum += num\n",
    "else:\n",
    "    #breakされなければ合計をだす\n",
    "    print(num, \"/\", sum)"
   ]
  },
  {
   "cell_type": "code",
   "execution_count": 20,
   "metadata": {},
   "outputs": [
    {
     "name": "stdout",
     "output_type": "stream",
     "text": [
      "合計 27.2\n"
     ]
    }
   ],
   "source": [
    "numlist = [3, 4.2, 10, 1, 9] #文字列が含まれている\n",
    "\n",
    "sum = 0\n",
    "for num in numlist:\n",
    "    #numが数値ではない時は処理をブレイクする\n",
    "    if not isinstance(num, (int, float)):\n",
    "        print(num, \"数値ではない値が含まれていました。\")\n",
    "        break\n",
    "    sum += num\n",
    "else:\n",
    "    #breakされなければ合計をだす\n",
    "    print(\"合計\", sum)"
   ]
  },
  {
   "cell_type": "code",
   "execution_count": 21,
   "metadata": {},
   "outputs": [
    {
     "name": "stdout",
     "output_type": "stream",
     "text": [
      "何個ですか？（qで終了）\n",
      "エラーです。正しい数値を入れてください。\n",
      "何個ですか？（qで終了）五個\n",
      "エラーです。正しい数値を入れてください。\n",
      "何個ですか？（qで終了）5個\n",
      "エラーです。正しい数値を入れてください。\n",
      "何個ですか？（qで終了）5\n",
      "金額 600\n",
      "何個ですか？（qで終了）q\n",
      "終了しました。\n"
     ]
    }
   ],
   "source": [
    "while True:\n",
    "    num = input(\"何個ですか？（qで終了）\")\n",
    "    if num ==  \"q\":\n",
    "        print(\"終了しました。\")\n",
    "        break\n",
    "    try:\n",
    "        price = 120 * int(num)\n",
    "        print(\"金額\", price)\n",
    "    except:\n",
    "        print(\"エラーです。正しい数値を入れてください。\")"
   ]
  },
  {
   "cell_type": "code",
   "execution_count": 22,
   "metadata": {},
   "outputs": [
    {
     "name": "stdout",
     "output_type": "stream",
     "text": [
      "エラーになりました。\n",
      "計算終わり。\n"
     ]
    }
   ],
   "source": [
    "num = 0\n",
    "try:\n",
    "    value = 120 / num\n",
    "    print(value)\n",
    "except:\n",
    "    print(\"エラーになりました。\")\n",
    "finally:\n",
    "    print(\"計算終わり。\")"
   ]
  },
  {
   "cell_type": "code",
   "execution_count": 23,
   "metadata": {},
   "outputs": [
    {
     "name": "stdout",
     "output_type": "stream",
     "text": [
      "4.0\n",
      "計算終わり。\n"
     ]
    }
   ],
   "source": [
    "num = 30\n",
    "try:\n",
    "    value = 120 / num\n",
    "    print(value)\n",
    "except:\n",
    "    print(\"エラーになりました。\")\n",
    "finally:\n",
    "    print(\"計算終わり。\")"
   ]
  },
  {
   "cell_type": "code",
   "execution_count": 25,
   "metadata": {},
   "outputs": [
    {
     "name": "stdout",
     "output_type": "stream",
     "text": [
      "何人ですか？（qで終了）0\n",
      "0以外の数値を入力してください。\n",
      "何人ですか？（qで終了）-3\n",
      "何人ですか？（qで終了）-3\n",
      "何人ですか？（qで終了）4\n",
      "1人あたりの金額 1900\n",
      "何人ですか？（qで終了）q\n",
      "終了しました。\n"
     ]
    }
   ],
   "source": [
    "sum = 7600\n",
    "while True:\n",
    "    num = input(\"何人ですか？（qで終了）\")\n",
    "    if num == \"q\":\n",
    "        print(\"終了しました。\")\n",
    "        break\n",
    "    #例外を振り分けて例外処理を行う\n",
    "    try:\n",
    "        price = round(sum / int(num))\n",
    "        if price < 0:\n",
    "            continue\n",
    "        print(\"1人あたりの金額\", price)\n",
    "    except ValueError:\n",
    "        print(\"数値を入れてください。\")\n",
    "    except ZeroDivisionError:\n",
    "        print(\"0以外の数値を入力してください。\")\n",
    "        "
   ]
  },
  {
   "cell_type": "code",
   "execution_count": null,
   "metadata": {},
   "outputs": [],
   "source": [
    "sum = 7600\n",
    "while True:\n",
    "    num = input(\"何人ですか？（qで終了）\")\n",
    "    if num == \"q\":\n",
    "        print(\"終了しました。\")\n",
    "        break\n",
    "    try:\n",
    "        price = round(sum / int(num))\n",
    "    except Exception as error:\n",
    "        print(\"エラーになりました。\")\n",
    "        print(error)\n",
    "    else:\n",
    "        if price < 0:\n",
    "            continue\n",
    "        print(\"1人あたりの金額\", price)"
   ]
  }
 ],
 "metadata": {
  "kernelspec": {
   "display_name": "Python 3",
   "language": "python",
   "name": "python3"
  },
  "language_info": {
   "codemirror_mode": {
    "name": "ipython",
    "version": 3
   },
   "file_extension": ".py",
   "mimetype": "text/x-python",
   "name": "python",
   "nbconvert_exporter": "python",
   "pygments_lexer": "ipython3",
   "version": "3.7.5"
  }
 },
 "nbformat": 4,
 "nbformat_minor": 2
}
