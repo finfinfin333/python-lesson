{
 "cells": [
  {
   "cell_type": "code",
   "execution_count": 1,
   "metadata": {},
   "outputs": [
    {
     "name": "stdout",
     "output_type": "stream",
     "text": [
      "東京123,456,000、京都53,900\n"
     ]
    }
   ],
   "source": [
    "tokyo = 123456000\n",
    "kyoto = 53900\n",
    "print(f\"東京{tokyo:,}、京都{kyoto:,}\")"
   ]
  },
  {
   "cell_type": "code",
   "execution_count": 2,
   "metadata": {},
   "outputs": [
    {
     "name": "stdout",
     "output_type": "stream",
     "text": [
      "長さ25.3cm、厚み6mm\n"
     ]
    }
   ],
   "source": [
    "length = 25.34\n",
    "thickness = 5.62\n",
    "text = f\"長さ{length:.1f}cm、厚み{thickness:.0f}mm\"\n",
    "print(text)"
   ]
  },
  {
   "cell_type": "code",
   "execution_count": 3,
   "metadata": {},
   "outputs": [
    {
     "data": {
      "text/plain": [
       "'長さ25.3cm、厚み6mm'"
      ]
     },
     "execution_count": 3,
     "metadata": {},
     "output_type": "execute_result"
    }
   ],
   "source": [
    "length = 25.34\n",
    "thickness = 5.62\n",
    "s = \"長さ{:.1f}cm、厚み{:.0f}mm\"\n",
    "s.format(length, thickness)"
   ]
  },
  {
   "cell_type": "code",
   "execution_count": 4,
   "metadata": {},
   "outputs": [
    {
     "name": "stdout",
     "output_type": "stream",
     "text": [
      "2,345.03\n"
     ]
    }
   ],
   "source": [
    "num = 2345.032\n",
    "print(f\"{num:,.2f}\")"
   ]
  },
  {
   "cell_type": "code",
   "execution_count": 5,
   "metadata": {},
   "outputs": [
    {
     "name": "stdout",
     "output_type": "stream",
     "text": [
      "     123.4\n",
      "      56.9\n",
      "    3040.1\n"
     ]
    }
   ],
   "source": [
    "num1 = 123.4\n",
    "num2 = 56.9\n",
    "num3 = 3040.1\n",
    "print(f\"{num1:>10.1f}\")\n",
    "print(f\"{num2:>10.1f}\")\n",
    "print(f\"{num3:>10.1f}\")"
   ]
  },
  {
   "cell_type": "code",
   "execution_count": null,
   "metadata": {},
   "outputs": [],
   "source": []
  }
 ],
 "metadata": {
  "kernelspec": {
   "display_name": "Python 3",
   "language": "python",
   "name": "python3"
  },
  "language_info": {
   "codemirror_mode": {
    "name": "ipython",
    "version": 3
   },
   "file_extension": ".py",
   "mimetype": "text/x-python",
   "name": "python",
   "nbconvert_exporter": "python",
   "pygments_lexer": "ipython3",
   "version": "3.7.5"
  }
 },
 "nbformat": 4,
 "nbformat_minor": 2
}
