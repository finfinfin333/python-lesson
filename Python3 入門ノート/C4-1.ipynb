{
 "cells": [
  {
   "cell_type": "code",
   "execution_count": 1,
   "metadata": {},
   "outputs": [
    {
     "name": "stdout",
     "output_type": "stream",
     "text": [
      "文字数は6個です\n"
     ]
    }
   ],
   "source": [
    "kozu = len(\"Python\")\n",
    "ans = \"文字数は\" + str(kozu) + \"個です\"\n",
    "print(ans)"
   ]
  },
  {
   "cell_type": "code",
   "execution_count": 3,
   "metadata": {
    "scrolled": true
   },
   "outputs": [
    {
     "name": "stdout",
     "output_type": "stream",
     "text": [
      "好きな文字を入力してください234456\n",
      "234456\n"
     ]
    }
   ],
   "source": [
    "value = input(\"好きな文字を入力してください\")\n",
    "print(value)"
   ]
  },
  {
   "cell_type": "code",
   "execution_count": 12,
   "metadata": {},
   "outputs": [
    {
     "name": "stdout",
     "output_type": "stream",
     "text": [
      "16\n",
      "15\n",
      "3.141592653589793\n",
      "45.0\n"
     ]
    }
   ],
   "source": [
    "import math\n",
    "print(math.ceil(15.2))\n",
    "print(math.floor(15.2))\n",
    "print(math.pi)\n",
    "print(math.degrees(math.pi/4))"
   ]
  },
  {
   "cell_type": "code",
   "execution_count": 14,
   "metadata": {},
   "outputs": [
    {
     "name": "stdout",
     "output_type": "stream",
     "text": [
      "12.49m\n"
     ]
    }
   ],
   "source": [
    "import math\n",
    "kyori = 20\n",
    "kakudo = math.radians(32)\n",
    "takasa = kyori * math.tan(kakudo)\n",
    "takasa = math.floor(takasa * 100)/100\n",
    "print(str(takasa) + \"m\")"
   ]
  },
  {
   "cell_type": "code",
   "execution_count": 18,
   "metadata": {},
   "outputs": [
    {
     "data": {
      "text/plain": [
       "0.6837028126780612"
      ]
     },
     "execution_count": 18,
     "metadata": {},
     "output_type": "execute_result"
    }
   ],
   "source": [
    "from random import random\n",
    "random()"
   ]
  },
  {
   "cell_type": "code",
   "execution_count": 26,
   "metadata": {},
   "outputs": [
    {
     "name": "stdout",
     "output_type": "stream",
     "text": [
      "Hello Python\n",
      "<class 'str'>\n",
      "HELLO PYTHON\n",
      "hello python\n",
      "hELLO pYTHON\n",
      "Hello python\n",
      "Hello Python\n"
     ]
    }
   ],
   "source": [
    "s = \"Hello Python\"\n",
    "print(s)\n",
    "print(type(s))\n",
    "print(s.upper())\n",
    "print(s.lower())\n",
    "print(s.swapcase())\n",
    "print(s.capitalize())\n",
    "print(s.title())"
   ]
  },
  {
   "cell_type": "code",
   "execution_count": 33,
   "metadata": {},
   "outputs": [
    {
     "name": "stdout",
     "output_type": "stream",
     "text": [
      "3\n",
      "2\n",
      "4\n",
      "-1\n",
      "8\n"
     ]
    }
   ],
   "source": [
    "s = \"apple pie\"\n",
    "print(s.count(\"p\"))\n",
    "print(s.count(\"p\",0,4))\n",
    "print(s.find(\"e\"))\n",
    "#みつられなかった場合\n",
    "print(s.find(\"x\"))\n",
    "#後ろから検索\n",
    "print(s.rfind(\"e\"))"
   ]
  },
  {
   "cell_type": "code",
   "execution_count": 35,
   "metadata": {},
   "outputs": [
    {
     "name": "stdout",
     "output_type": "stream",
     "text": [
      "xmployxx\n",
      "xmployxe\n"
     ]
    }
   ],
   "source": [
    "s = \"employee\"\n",
    "print(s.replace(\"e\", \"x\"))\n",
    "print(s.replace(\"e\", \"x\", 2))"
   ]
  },
  {
   "cell_type": "code",
   "execution_count": 37,
   "metadata": {},
   "outputs": [
    {
     "name": "stdout",
     "output_type": "stream",
     "text": [
      "サクラ咲く\n",
      "サクラ舞う風\n"
     ]
    }
   ],
   "source": [
    "sj = \"サクラ咲く\"\n",
    "print(sj)\n",
    "print(sj.replace(\"咲く\", \"舞う風\"))"
   ]
  },
  {
   "cell_type": "code",
   "execution_count": 40,
   "metadata": {},
   "outputs": [
    {
     "data": {
      "text/plain": [
       "'hello'"
      ]
     },
     "execution_count": 40,
     "metadata": {},
     "output_type": "execute_result"
    }
   ],
   "source": [
    "t = \"hello.....\"\n",
    "t.rstrip(\".\")"
   ]
  }
 ],
 "metadata": {
  "kernelspec": {
   "display_name": "Python 3",
   "language": "python",
   "name": "python3"
  },
  "language_info": {
   "codemirror_mode": {
    "name": "ipython",
    "version": 3
   },
   "file_extension": ".py",
   "mimetype": "text/x-python",
   "name": "python",
   "nbconvert_exporter": "python",
   "pygments_lexer": "ipython3",
   "version": "3.7.5"
  }
 },
 "nbformat": 4,
 "nbformat_minor": 2
}
