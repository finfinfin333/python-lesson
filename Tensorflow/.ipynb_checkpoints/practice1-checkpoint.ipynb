{
 "cells": [
  {
   "cell_type": "code",
   "execution_count": 7,
   "metadata": {},
   "outputs": [
    {
     "name": "stdout",
     "output_type": "stream",
     "text": [
      "num1 = 1\n",
      "num2 = 2\n",
      "num1 + num2 = 3\n",
      "num1 - num2 = -1\n",
      "num1 * num2 = 2\n",
      "num1 / num2 = 0.5\n",
      "num1 % num2 = 1\n"
     ]
    }
   ],
   "source": [
    "num1 = 1\n",
    "num2 = 2\n",
    "print('num1 =', num1)\n",
    "print('num2 =', num2)\n",
    "\n",
    "num3 = num1 + num2\n",
    "print('num1 + num2 =', num3)\n",
    "\n",
    "num3 = num1 - num2\n",
    "print('num1 - num2 =', num3)\n",
    "\n",
    "num3 = num1 * num2\n",
    "print('num1 * num2 =', num3)\n",
    "\n",
    "num3 = num1 / num2\n",
    "print('num1 / num2 =', num3)\n",
    "str1\n",
    "num3 = num1 % num2\n",
    "print('num1 % num2 =', num3)"
   ]
  },
  {
   "cell_type": "code",
   "execution_count": 8,
   "metadata": {},
   "outputs": [
    {
     "name": "stdout",
     "output_type": "stream",
     "text": [
      "num1 = 1.1\n",
      "num2 = 2\n",
      "num1 * num2 = 2.2\n"
     ]
    }
   ],
   "source": [
    "num1 = 1.1\n",
    "num2 = 2\n",
    "print('num1 =', num1)\n",
    "print('num2 =', num2)\n",
    "\n",
    "num3 = num1 * num2\n",
    "print('num1 * num2 =', num3)\n"
   ]
  },
  {
   "cell_type": "code",
   "execution_count": 14,
   "metadata": {},
   "outputs": [
    {
     "name": "stdout",
     "output_type": "stream",
     "text": [
      "str1 = Hello World!\n",
      "str2 = ようこそPythonの世界へ！\n",
      "str1_str2  :  Hello World!¥tようこそPythonの世界へ！\n",
      "str1_str2 : Hello World!¥nようこそPythonの世界へ！\n",
      "str1[0] = H\n",
      "str1[0:3] = Hel\n",
      "str1[1:] = ello World!\n",
      "文字列をスペースで分割 : ['Hello', 'World!']\n",
      "文字列を_で結合 : Hello_World!\n"
     ]
    }
   ],
   "source": [
    "str1 = 'Hello World!'\n",
    "str2 = 'ようこそPythonの世界へ！'\n",
    "print('str1' + ' = ' + str1)\n",
    "print('str2' + ' = ' + str2)\n",
    "\n",
    "str3 = str1 + '¥t' + str2\n",
    "print('str1_str2' + '  :  ' + str3)\n",
    "\n",
    "str3 = str1 + '¥n' + str2\n",
    "print('str1_str2' + ' : ' + str3)\n",
    "\n",
    "str3 = str1[0]\n",
    "print('str1[0]' + ' = ' + str3)\n",
    "str3 = str1[0:3]\n",
    "print('str1[0:3]' + ' = ' + str3)\n",
    "str3 = str1[1:]\n",
    "print('str1[1:]' + ' = ' + str3)\n",
    "\n",
    "slist = str1.split(' ')\n",
    "print('文字列をスペースで分割 :', slist)\n",
    "str4 = '_'.join(slist)\n",
    "print('文字列を_で結合 :', str4)"
   ]
  },
  {
   "cell_type": "code",
   "execution_count": 18,
   "metadata": {},
   "outputs": [
    {
     "name": "stdout",
     "output_type": "stream",
     "text": [
      "num1 = 1\n",
      "num2 = 2\n",
      "num2はnum1より大きい\n"
     ]
    }
   ],
   "source": [
    "num1 = 1\n",
    "num2 = 2\n",
    "print('num1 =', num1)\n",
    "print('num2 =', num2)\n",
    "\n",
    "if num1 == num2:\n",
    "    print('num1とnum2は一致')\n",
    "elif num1 < num2:\n",
    "    print('num2はnum1より大きい')\n",
    "else:\n",
    "        pront('それ以外')"
   ]
  },
  {
   "cell_type": "code",
   "execution_count": null,
   "metadata": {},
   "outputs": [],
   "source": [
    "str1 = 'Python'\n",
    "str2 = 'ようこそPythonの世界へ！'\n",
    "print('str1' + ' = ' + str1)\n",
    "print('str2' + ' = ' + str2)\n",
    "\n",
    "if str1 in str2:\n",
    "    print('文字列に「Python」を含む')\n",
    "else:\n",
    "    print('文字列に「Python」を含まない')"
   ]
  }
 ],
 "metadata": {
  "kernelspec": {
   "display_name": "Python 3",
   "language": "python",
   "name": "python3"
  },
  "language_info": {
   "codemirror_mode": {
    "name": "ipython",
    "version": 3
   },
   "file_extension": ".py",
   "mimetype": "text/x-python",
   "name": "python",
   "nbconvert_exporter": "python",
   "pygments_lexer": "ipython3",
   "version": "3.7.3"
  }
 },
 "nbformat": 4,
 "nbformat_minor": 2
}
