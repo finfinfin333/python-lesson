{
 "cells": [
  {
   "cell_type": "code",
   "execution_count": 16,
   "metadata": {},
   "outputs": [
    {
     "name": "stdout",
     "output_type": "stream",
     "text": [
      "Counter({'a': 3, 'c': 2, 'b': 1})\n",
      "a 3\n",
      "c 2\n",
      "b 1\n"
     ]
    }
   ],
   "source": [
    "from collections import Counter\n",
    "\n",
    "list = ['a', 'b', 'c', 'a', 'a', 'c']\n",
    "\n",
    "counter = Counter(list)\n",
    "print(counter)\n",
    "\n",
    "for elem, cnt in counter.most_common():\n",
    "    print(elem, cnt)"
   ]
  },
  {
   "cell_type": "code",
   "execution_count": null,
   "metadata": {},
   "outputs": [],
   "source": []
  }
 ],
 "metadata": {
  "kernelspec": {
   "display_name": "Python 3",
   "language": "python",
   "name": "python3"
  }
 },
 "nbformat": 4,
 "nbformat_minor": 2
}
